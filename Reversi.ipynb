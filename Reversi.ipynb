{
  "nbformat": 4,
  "nbformat_minor": 0,
  "metadata": {
    "colab": {
      "name": "Untitled1.ipynb",
      "provenance": [],
      "collapsed_sections": [],
      "authorship_tag": "ABX9TyNndPgMKx0F7Vj7Om1noqEk",
      "include_colab_link": true
    },
    "kernelspec": {
      "name": "python3",
      "display_name": "Python 3"
    }
  },
  "cells": [
    {
      "cell_type": "markdown",
      "metadata": {
        "id": "view-in-github",
        "colab_type": "text"
      },
      "source": [
        "<a href=\"https://colab.research.google.com/github/yuli4ka/ReversiGene/blob/main/Reversi.ipynb\" target=\"_parent\"><img src=\"https://colab.research.google.com/assets/colab-badge.svg\" alt=\"Open In Colab\"/></a>"
      ]
    },
    {
      "cell_type": "code",
      "metadata": {
        "id": "I-DdcK9Rbu4f"
      },
      "source": [
        "import random\n",
        "import numpy as np\n",
        "import math\n",
        "\n",
        "from copy import deepcopy"
      ],
      "execution_count": 472,
      "outputs": []
    },
    {
      "cell_type": "code",
      "metadata": {
        "id": "NG975kdEJaQC"
      },
      "source": [
        "boardSize = 6\n",
        "w = 1 #white player\n",
        "b = -1 #black player\n",
        "white = \"☺\"\n",
        "black = \"☻\"\n",
        "zero = \".\"\n",
        "\n",
        "invalidMove = (-1, -1)\n",
        "structure = [boardSize*boardSize, 2*boardSize*boardSize,2*boardSize*boardSize, boardSize*boardSize]"
      ],
      "execution_count": 473,
      "outputs": []
    },
    {
      "cell_type": "code",
      "metadata": {
        "id": "5yewBZ0XN5Wf"
      },
      "source": [
        "def getSymbol(turn):\n",
        "  if turn == w:\n",
        "    return white\n",
        "  elif turn == b:\n",
        "    return black\n",
        "  else:\n",
        "    return zero"
      ],
      "execution_count": 474,
      "outputs": []
    },
    {
      "cell_type": "code",
      "metadata": {
        "id": "RM4JKBYfJhwl"
      },
      "source": [
        "def chessCount(board, color):\n",
        "  return sum(board[i].count(color) for i in range(boardSize))"
      ],
      "execution_count": 475,
      "outputs": []
    },
    {
      "cell_type": "code",
      "metadata": {
        "id": "LQV3kJrPKUb3"
      },
      "source": [
        "def printBoard(board):\n",
        "  print()\n",
        "  for i in range(boardSize):\n",
        "    for j in range(boardSize):\n",
        "      print(getSymbol(board[i][j]), end = \" \")\n",
        "    print()\n",
        "  print()\n",
        "  print(black + \":\" + str(chessCount(board, b)))\n",
        "  print(white + \":\" + str(chessCount(board, w)))\n",
        "  print()"
      ],
      "execution_count": 476,
      "outputs": []
    },
    {
      "cell_type": "code",
      "metadata": {
        "id": "8S2w4WiNLwK7"
      },
      "source": [
        "def generateBoard():\n",
        "  board = [[0 for _ in range(boardSize)] for _ in range(boardSize)]\n",
        "  board[boardSize // 2 - 1][boardSize // 2 - 1] = w\n",
        "  board[boardSize // 2 - 1][boardSize // 2] = b\n",
        "  board[boardSize // 2][boardSize // 2 - 1] = b\n",
        "  board[boardSize // 2][boardSize // 2] = w\n",
        "  return board "
      ],
      "execution_count": 477,
      "outputs": []
    },
    {
      "cell_type": "code",
      "metadata": {
        "id": "WB9UOU0jQhwC"
      },
      "source": [
        "def outOfBound(i, j):\n",
        "  return i < 0 or i >= boardSize or j < 0 or j >= boardSize"
      ],
      "execution_count": 478,
      "outputs": []
    },
    {
      "cell_type": "code",
      "metadata": {
        "id": "H2wxgG7_RMxy"
      },
      "source": [
        "def opposite(turn):\n",
        "  return w if turn == b else b"
      ],
      "execution_count": 479,
      "outputs": []
    },
    {
      "cell_type": "code",
      "metadata": {
        "id": "ej1nnkjSQuYL"
      },
      "source": [
        "def neighbourIsOpposite(board, i, j, di, dj, turn):\n",
        "  if (outOfBound(i + di, j + dj)):\n",
        "    return False\n",
        "  return board[i + di][j + dj] == opposite(turn)"
      ],
      "execution_count": 480,
      "outputs": []
    },
    {
      "cell_type": "code",
      "metadata": {
        "id": "qDzgv6SyRTqV"
      },
      "source": [
        "def checkSandwich(board, i, j, di, dj, turn):\n",
        "  if di == 0 and dj == 0:\n",
        "    return False\n",
        "  if outOfBound(i + di, j + dj):\n",
        "    return False\n",
        "  if board[i + di][j + dj] == turn:\n",
        "    return True\n",
        "  if board[i + di][j + dj] == opposite(turn):\n",
        "    return checkSandwich(board, i  + di, j + dj, di, dj, turn)\n",
        "  return False"
      ],
      "execution_count": 481,
      "outputs": []
    },
    {
      "cell_type": "code",
      "metadata": {
        "id": "Sj56TXViSl_-"
      },
      "source": [
        "def turnIsValid(board, i, j, turn):\n",
        "  if outOfBound(i, j):\n",
        "    return False\n",
        "  if board[i][j] != 0:\n",
        "    return False\n",
        "  for di in range (-1, 2):\n",
        "    for dj in range(-1, 2):\n",
        "      if neighbourIsOpposite(board, i, j, di, dj, turn):\n",
        "        if checkSandwich(board, i, j, di, dj, turn):\n",
        "          return True\n",
        "  return False"
      ],
      "execution_count": 482,
      "outputs": []
    },
    {
      "cell_type": "code",
      "metadata": {
        "id": "Gk3n17U3TVKJ"
      },
      "source": [
        "def replaceNeighbours(board, i, j, di, dj, turn):\n",
        "  if checkSandwich(board, i, j, di, dj, turn):\n",
        "    board[i + di][j + dj] = turn\n",
        "    replaceNeighbours(board, i + di, j + dj, di, dj, turn)"
      ],
      "execution_count": 483,
      "outputs": []
    },
    {
      "cell_type": "code",
      "metadata": {
        "id": "Og-EXLPJUgUK"
      },
      "source": [
        "def getValidMoves(board, turn):\n",
        "  return[(i, j) for i in range(boardSize) \n",
        "   for j in range(boardSize) \n",
        "    if turnIsValid(board, i, j, turn)]"
      ],
      "execution_count": 484,
      "outputs": []
    },
    {
      "cell_type": "code",
      "metadata": {
        "id": "NxldM4FEU_mk"
      },
      "source": [
        "def makeMove(board, i, j, turn):\n",
        "  board[i][j] = turn\n",
        "  for di in range(-1, 2):\n",
        "    for dj in range(-1, 2):\n",
        "      if neighbourIsOpposite(board, i, j, di, dj, turn):\n",
        "        replaceNeighbours(board, i, j, di, dj, turn)\n",
        "  return board"
      ],
      "execution_count": 485,
      "outputs": []
    },
    {
      "cell_type": "code",
      "metadata": {
        "colab": {
          "base_uri": "https://localhost:8080/"
        },
        "id": "JsADhAT1MeAd",
        "outputId": "25b36547-a041-4710-cbf0-5ed98d7d0ca6"
      },
      "source": [
        "board = getStartBoard()\n",
        "printBoard(board)"
      ],
      "execution_count": 486,
      "outputs": [
        {
          "output_type": "stream",
          "text": [
            "\n",
            ". . . . . . \n",
            ". . . . . . \n",
            ". . ☺ ☻ . . \n",
            ". . ☻ ☺ . . \n",
            ". . . . . . \n",
            ". . . . . . \n",
            "\n",
            "☻:2\n",
            "☺:2\n",
            "\n"
          ],
          "name": "stdout"
        }
      ]
    },
    {
      "cell_type": "code",
      "metadata": {
        "id": "rBMl8NANb-9B"
      },
      "source": [
        "def sigmoid(x):\n",
        "  return 1 / (1 + math.exp(-x))"
      ],
      "execution_count": 487,
      "outputs": []
    },
    {
      "cell_type": "code",
      "metadata": {
        "id": "JN1HU0PlcHm4"
      },
      "source": [
        "def negative(x):\n",
        "  return -x"
      ],
      "execution_count": 488,
      "outputs": []
    },
    {
      "cell_type": "code",
      "metadata": {
        "id": "AjuiVliNcMB6"
      },
      "source": [
        "def evaluate(board, structre, weights, turn):\n",
        "  layer = np.array(sum(board, []))\n",
        "  negativeForArray = np.vectorize(negative)\n",
        "  if turn == w:\n",
        "    layer = negativeForArray(layer)\n",
        "  for i in range(1, len(structure)):\n",
        "    layer = np.append(layer, 1)\n",
        "    layer = np.dot(weights[i-1], layer)\n",
        "    sigmoidForArray = np.vectorize(sigmoid)\n",
        "    layer = sigmoidForArray(layer)\n",
        "  return layer"
      ],
      "execution_count": 489,
      "outputs": []
    },
    {
      "cell_type": "code",
      "metadata": {
        "id": "T_ydV7LZdIhU"
      },
      "source": [
        "def chooseMove(board, sturcture, weights, turn):\n",
        "  results = evaluate(board, structure, weights, turn)\n",
        "  validMoves = getValidMoves(board, turn)\n",
        "  bestMove = invalidMove\n",
        "  highestValue = -1\n",
        "  for coordinates in validMoves:\n",
        "    valueOfCoordinates = results[boardSize * coordinates[0] + coordinates[1]]\n",
        "    if valueOfCoordinates > highestValue:\n",
        "      highestValue = valueOfCoordinates\n",
        "      bestMove = coordinates\n",
        "  return bestMove"
      ],
      "execution_count": 490,
      "outputs": []
    },
    {
      "cell_type": "code",
      "metadata": {
        "id": "10I0w8Gpdnyd"
      },
      "source": [
        "def generateNetwork(structure):    \n",
        "  weights = []\n",
        "  for i in range(len(structure) - 1):\n",
        "    weights.append(np.array([[random.uniform(-1, 1) for _ in range(structure[i] + 1)] for _ in range(structure[i + 1])]))\n",
        "  return weights"
      ],
      "execution_count": 491,
      "outputs": []
    },
    {
      "cell_type": "code",
      "metadata": {
        "id": "XDqc_5zidq9i"
      },
      "source": [
        "def saveNetworks(networks, sortedNetworksTuples, previousGeneration):\n",
        "  file = open(\"gen\" + str(previousGeneration), \"w\")\n",
        "  for networkTuple in sortedNetworksTuples:\n",
        "    fitness = networkTuple[0]\n",
        "    file.write(\"Fitness:\" + str(fitness) + \"\\n\")\n",
        "    networkIndex = networkTuple[1]\n",
        "    for p in range(len(networks[networkIndex])):\n",
        "      for q in range(len(networks[networkIndex][p])):\n",
        "        file.write(str(networks[networkIndex][p][q][0]))\n",
        "        for r in range(1, len(networks[networkIndex][p][q])):\n",
        "          file.write(\"    \" + str(networks[networkIndex][p][q][r]))\n",
        "        file.write(\"\\n\")\n",
        "  file.close()"
      ],
      "execution_count": 492,
      "outputs": []
    },
    {
      "cell_type": "code",
      "metadata": {
        "id": "u3WO07m4P6JX"
      },
      "source": [
        "def loadNetworks(structure, previousGeneration):\n",
        "  with open(\"gen\" + str(previousGeneration), \"r\") as file:\n",
        "    lines = file.read().splitlines()\n",
        "    for i in range(len(lines) - 1, -1, -1): # removing fitness information\n",
        "      if lines[i][0] == \"F\":\n",
        "        lines.pop(i)\n",
        "           \n",
        "    weightsList = sum([line.split() for line in lines], [])\n",
        "    # weightsList = sum([line.split(\"\\t\") for line in lines], [])\n",
        "    \n",
        "    weightsListIndex = 0\n",
        "    networks = []\n",
        "\n",
        "    while len(networks) < bestNetworksPopulation:\n",
        "      weights = []\n",
        "      for i in range(len(structure) - 1):\n",
        "        layer = [[0 for _ in range(structure[i] + 1)] for _ in range(structure[i + 1])]\n",
        "        for j in range(structure[i + 1]):\n",
        "          for k in range(structure[i] + 1):\n",
        "            layer[j][k] = float(weightsList[weightsListIndex])\n",
        "            weightsListIndex += 1\n",
        "          weights.append(np.array(layer))\n",
        "        networks.append(weights)\n",
        "\n",
        "  return networks"
      ],
      "execution_count": 493,
      "outputs": []
    },
    {
      "cell_type": "code",
      "metadata": {
        "id": "Ww4vy1iuQKjp"
      },
      "source": [
        "previousGeneration = -1\n",
        "population = 30\n",
        "bestNetworksPopulation = 4\n",
        "mutationAmount = 0.05\n",
        "generationNumber = 3\n",
        "whiteCanPlay = True\n",
        "blackCanPlay = True"
      ],
      "execution_count": 494,
      "outputs": []
    },
    {
      "cell_type": "code",
      "metadata": {
        "id": "32ICBIbvd2I7",
        "colab": {
          "base_uri": "https://localhost:8080/",
          "height": 532
        },
        "outputId": "4d0fd640-792e-4138-d30a-b6b94d58893b"
      },
      "source": [
        "if previousGeneration < 0:\n",
        "    networks = [generateNetwork(structure) for _ in range(population)]\n",
        "        \n",
        "while previousGeneration < generationNumber:\n",
        "  # repopulate\n",
        "  if previousGeneration >= 0:\n",
        "    print(\"in generation \" + str(previousGeneration))\n",
        "    # read networks from file if there is some previous generations\n",
        "    networks = loadNetworks(structure, previousGeneration)\n",
        "    bestNetworkPoplation = len(networks)\n",
        "\n",
        "    # mutation\n",
        "    for i in range(bestNetworkPoplation):\n",
        "      for _ in range(5): # do 5 mutations for each neural network\n",
        "        newNetwork = deepcopy(networks[i])\n",
        "        for p in range(len(newNetwork)):\n",
        "          for q in range(len(newNetwork[p])):\n",
        "            for r in range(len(newNetwork[p][q])):\n",
        "              newNetwork[p][q][r] += random.uniform(-mutationAmount, mutationAmount)\n",
        "        networks.append(newNetwork)\n",
        "    print(\"mutation\")\n",
        "    # crossover\n",
        "    for i in range(bestNetworkPoplation):\n",
        "      for j in range(bestNetworkPoplation):\n",
        "        if i != j:\n",
        "          for _ in range(2): # do 2 crossovers for each neural network\n",
        "            newNetwork = deepcopy(networks[i])\n",
        "            useNetworkJWeight = True if random.randrange(0, 1) < 0.5 else False\n",
        "            for p in range(len(newNetwork)):\n",
        "              for q in range(len(newNetwork[p])):\n",
        "                for r in range(len(newNetwork[p][q])):\n",
        "                  useNetworkJWeight = not useNetworkJWeight \\\n",
        "                  if random.randrange(0, 1) < 30/(8*boardSize*boardSize*boardSize*boardSize) else useNetworkJWeight\n",
        "                  if useNetworkJWeight:\n",
        "                    newNetwork[p][q][r] = networks[j][p][q][r]\n",
        "            networks.append(newNetwork)\n",
        "    print(\"crossover\")  \n",
        "  # play against each other\n",
        "  print(\"start to play\")\n",
        "  previousGeneration += 1\n",
        "  fitnesses = [0 for _ in range(population)]\n",
        "  for i in range(population): # black\n",
        "    for j in range(population): # white\n",
        "      if i != j:\n",
        "        turn = b\n",
        "        board = generateBoard()\n",
        "        whiteCanPlay = True # if white is not stuck\n",
        "        blackCanPlay = True # if black is not stuck\n",
        "        while whiteCanPlay or blackCanPlay:\n",
        "          move = chooseMove(board, structure, networks[i if turn == b else j], turn)\n",
        "          if move == invalidMove:\n",
        "            if turn == w:\n",
        "              whiteCanPlay = False\n",
        "            if turn == b:\n",
        "              blackCanPlay = False\n",
        "          else :\n",
        "            if turn == w:\n",
        "              whiteCanPlay = True\n",
        "            if turn == b:\n",
        "              blackCanPlay = True\n",
        "            board = makeMove(board, move[0], move[1], turn)\n",
        "          # switching players\n",
        "          turn = opposite(turn)\n",
        "        # add to fitnesses\n",
        "        # print(\"Generation \" + str(previousGeneration) + \": network \" + str(i), black, str(chessCount(board, b)),\"vs.\", \\\n",
        "        #   str(chessCount(board, w)), white + \" network \" + str(j))\n",
        "        fitnesses[i] += chessCount(board, b)\n",
        "        fitnesses[j] += chessCount(board, w)"
      ],
      "execution_count": 495,
      "outputs": [
        {
          "output_type": "stream",
          "text": [
            "start to play\n",
            "Generation 0 Fitness:  [20.06896551724138, 17.862068965517242, 15.206896551724139, 19.655172413793103, 16.620689655172413, 18.413793103448278, 20.810344827586206, 16.086206896551722, 17.155172413793103, 19.017241379310345, 21.689655172413794, 19.655172413793103, 21.810344827586206, 20.46551724137931, 17.620689655172413, 17.051724137931036, 16.862068965517242, 19.74137931034483, 14.517241379310345, 16.93103448275862, 12.46551724137931, 18.03448275862069, 14.0, 16.017241379310345, 17.482758620689655, 18.29310344827586, 21.17241379310345, 16.844827586206897, 19.689655172413794, 17.810344827586206]\n",
            "in generation 0\n",
            "mutation\n",
            "crossover\n",
            "start to play\n"
          ],
          "name": "stdout"
        },
        {
          "output_type": "error",
          "ename": "ValueError",
          "evalue": "ignored",
          "traceback": [
            "\u001b[0;31m---------------------------------------------------------------------------\u001b[0m",
            "\u001b[0;31mValueError\u001b[0m                                Traceback (most recent call last)",
            "\u001b[0;32m<ipython-input-495-ee017e420e1d>\u001b[0m in \u001b[0;36m<module>\u001b[0;34m()\u001b[0m\n\u001b[1;32m     47\u001b[0m         \u001b[0mblackCanPlay\u001b[0m \u001b[0;34m=\u001b[0m \u001b[0;32mTrue\u001b[0m \u001b[0;31m# if black is not stuck\u001b[0m\u001b[0;34m\u001b[0m\u001b[0;34m\u001b[0m\u001b[0m\n\u001b[1;32m     48\u001b[0m         \u001b[0;32mwhile\u001b[0m \u001b[0mwhiteCanPlay\u001b[0m \u001b[0;32mor\u001b[0m \u001b[0mblackCanPlay\u001b[0m\u001b[0;34m:\u001b[0m\u001b[0;34m\u001b[0m\u001b[0;34m\u001b[0m\u001b[0m\n\u001b[0;32m---> 49\u001b[0;31m           \u001b[0mmove\u001b[0m \u001b[0;34m=\u001b[0m \u001b[0mchooseMove\u001b[0m\u001b[0;34m(\u001b[0m\u001b[0mboard\u001b[0m\u001b[0;34m,\u001b[0m \u001b[0mstructure\u001b[0m\u001b[0;34m,\u001b[0m \u001b[0mnetworks\u001b[0m\u001b[0;34m[\u001b[0m\u001b[0mi\u001b[0m \u001b[0;32mif\u001b[0m \u001b[0mturn\u001b[0m \u001b[0;34m==\u001b[0m \u001b[0mb\u001b[0m \u001b[0;32melse\u001b[0m \u001b[0mj\u001b[0m\u001b[0;34m]\u001b[0m\u001b[0;34m,\u001b[0m \u001b[0mturn\u001b[0m\u001b[0;34m)\u001b[0m\u001b[0;34m\u001b[0m\u001b[0;34m\u001b[0m\u001b[0m\n\u001b[0m\u001b[1;32m     50\u001b[0m           \u001b[0;32mif\u001b[0m \u001b[0mmove\u001b[0m \u001b[0;34m==\u001b[0m \u001b[0minvalidMove\u001b[0m\u001b[0;34m:\u001b[0m\u001b[0;34m\u001b[0m\u001b[0;34m\u001b[0m\u001b[0m\n\u001b[1;32m     51\u001b[0m             \u001b[0;32mif\u001b[0m \u001b[0mturn\u001b[0m \u001b[0;34m==\u001b[0m \u001b[0mw\u001b[0m\u001b[0;34m:\u001b[0m\u001b[0;34m\u001b[0m\u001b[0;34m\u001b[0m\u001b[0m\n",
            "\u001b[0;32m<ipython-input-490-c2fd8c278920>\u001b[0m in \u001b[0;36mchooseMove\u001b[0;34m(board, sturcture, weights, turn)\u001b[0m\n\u001b[1;32m      1\u001b[0m \u001b[0;32mdef\u001b[0m \u001b[0mchooseMove\u001b[0m\u001b[0;34m(\u001b[0m\u001b[0mboard\u001b[0m\u001b[0;34m,\u001b[0m \u001b[0msturcture\u001b[0m\u001b[0;34m,\u001b[0m \u001b[0mweights\u001b[0m\u001b[0;34m,\u001b[0m \u001b[0mturn\u001b[0m\u001b[0;34m)\u001b[0m\u001b[0;34m:\u001b[0m\u001b[0;34m\u001b[0m\u001b[0;34m\u001b[0m\u001b[0m\n\u001b[0;32m----> 2\u001b[0;31m   \u001b[0mresults\u001b[0m \u001b[0;34m=\u001b[0m \u001b[0mevaluate\u001b[0m\u001b[0;34m(\u001b[0m\u001b[0mboard\u001b[0m\u001b[0;34m,\u001b[0m \u001b[0mstructure\u001b[0m\u001b[0;34m,\u001b[0m \u001b[0mweights\u001b[0m\u001b[0;34m,\u001b[0m \u001b[0mturn\u001b[0m\u001b[0;34m)\u001b[0m\u001b[0;34m\u001b[0m\u001b[0;34m\u001b[0m\u001b[0m\n\u001b[0m\u001b[1;32m      3\u001b[0m   \u001b[0mvalidMoves\u001b[0m \u001b[0;34m=\u001b[0m \u001b[0mgetValidMoves\u001b[0m\u001b[0;34m(\u001b[0m\u001b[0mboard\u001b[0m\u001b[0;34m,\u001b[0m \u001b[0mturn\u001b[0m\u001b[0;34m)\u001b[0m\u001b[0;34m\u001b[0m\u001b[0;34m\u001b[0m\u001b[0m\n\u001b[1;32m      4\u001b[0m   \u001b[0mbestMove\u001b[0m \u001b[0;34m=\u001b[0m \u001b[0minvalidMove\u001b[0m\u001b[0;34m\u001b[0m\u001b[0;34m\u001b[0m\u001b[0m\n\u001b[1;32m      5\u001b[0m   \u001b[0mhighestValue\u001b[0m \u001b[0;34m=\u001b[0m \u001b[0;34m-\u001b[0m\u001b[0;36m1\u001b[0m\u001b[0;34m\u001b[0m\u001b[0;34m\u001b[0m\u001b[0m\n",
            "\u001b[0;32m<ipython-input-489-cca50a8add84>\u001b[0m in \u001b[0;36mevaluate\u001b[0;34m(board, structre, weights, turn)\u001b[0m\n\u001b[1;32m      6\u001b[0m   \u001b[0;32mfor\u001b[0m \u001b[0mi\u001b[0m \u001b[0;32min\u001b[0m \u001b[0mrange\u001b[0m\u001b[0;34m(\u001b[0m\u001b[0;36m1\u001b[0m\u001b[0;34m,\u001b[0m \u001b[0mlen\u001b[0m\u001b[0;34m(\u001b[0m\u001b[0mstructure\u001b[0m\u001b[0;34m)\u001b[0m\u001b[0;34m)\u001b[0m\u001b[0;34m:\u001b[0m\u001b[0;34m\u001b[0m\u001b[0;34m\u001b[0m\u001b[0m\n\u001b[1;32m      7\u001b[0m     \u001b[0mlayer\u001b[0m \u001b[0;34m=\u001b[0m \u001b[0mnp\u001b[0m\u001b[0;34m.\u001b[0m\u001b[0mappend\u001b[0m\u001b[0;34m(\u001b[0m\u001b[0mlayer\u001b[0m\u001b[0;34m,\u001b[0m \u001b[0;36m1\u001b[0m\u001b[0;34m)\u001b[0m\u001b[0;34m\u001b[0m\u001b[0;34m\u001b[0m\u001b[0m\n\u001b[0;32m----> 8\u001b[0;31m     \u001b[0mlayer\u001b[0m \u001b[0;34m=\u001b[0m \u001b[0mnp\u001b[0m\u001b[0;34m.\u001b[0m\u001b[0mdot\u001b[0m\u001b[0;34m(\u001b[0m\u001b[0mweights\u001b[0m\u001b[0;34m[\u001b[0m\u001b[0mi\u001b[0m\u001b[0;34m-\u001b[0m\u001b[0;36m1\u001b[0m\u001b[0;34m]\u001b[0m\u001b[0;34m,\u001b[0m \u001b[0mlayer\u001b[0m\u001b[0;34m)\u001b[0m\u001b[0;34m\u001b[0m\u001b[0;34m\u001b[0m\u001b[0m\n\u001b[0m\u001b[1;32m      9\u001b[0m     \u001b[0msigmoidForArray\u001b[0m \u001b[0;34m=\u001b[0m \u001b[0mnp\u001b[0m\u001b[0;34m.\u001b[0m\u001b[0mvectorize\u001b[0m\u001b[0;34m(\u001b[0m\u001b[0msigmoid\u001b[0m\u001b[0;34m)\u001b[0m\u001b[0;34m\u001b[0m\u001b[0;34m\u001b[0m\u001b[0m\n\u001b[1;32m     10\u001b[0m     \u001b[0mlayer\u001b[0m \u001b[0;34m=\u001b[0m \u001b[0msigmoidForArray\u001b[0m\u001b[0;34m(\u001b[0m\u001b[0mlayer\u001b[0m\u001b[0;34m)\u001b[0m\u001b[0;34m\u001b[0m\u001b[0;34m\u001b[0m\u001b[0m\n",
            "\u001b[0;32m<__array_function__ internals>\u001b[0m in \u001b[0;36mdot\u001b[0;34m(*args, **kwargs)\u001b[0m\n",
            "\u001b[0;31mValueError\u001b[0m: shapes (72,37) and (73,) not aligned: 37 (dim 1) != 73 (dim 0)"
          ]
        }
      ]
    },
    {
      "cell_type": "code",
      "metadata": {
        "colab": {
          "base_uri": "https://localhost:8080/"
        },
        "id": "qFUZLRuqIlF6",
        "outputId": "1c98be8f-3e52-435b-aa4b-4bef0e143b0d"
      },
      "source": [
        "  fitnesses = [score /((population - 1) * 2) for score in fitnesses]\n",
        "  print(\"Generation\", previousGeneration, \"Fitness: \", fitnesses)\n",
        "\n",
        "  # sort networks according to fitnesses\n",
        "  networksIndices = [i for i in range(len(networks))]\n",
        "  sortedNetworksTuples = [(networksIndex, fitness) for networksIndex, fitness in reversed(sorted(zip(fitnesses, networksIndices)))]\n",
        "\n",
        "  # eliminate\n",
        "  sortedNetworksTuples = sortedNetworksTuples[ : bestNetworksPopulation]\n",
        "\n",
        "  # save best networks in the population to file\n",
        "  saveNetworks(networks, sortedNetworksTuples, previousGeneration)"
      ],
      "execution_count": 500,
      "outputs": [
        {
          "output_type": "stream",
          "text": [
            "Generation 1 Fitness:  [0.0, 0.0, 0.0, 0.0, 0.0, 0.0, 0.0, 0.0, 0.0, 0.0, 0.0, 0.0, 0.0, 0.0, 0.0, 0.0, 0.0, 0.0, 0.0, 0.0, 0.0, 0.0, 0.0, 0.0, 0.0, 0.0, 0.0, 0.0, 0.0, 0.0]\n"
          ],
          "name": "stdout"
        }
      ]
    },
    {
      "cell_type": "code",
      "metadata": {
        "id": "BE6xG6oeDn3E"
      },
      "source": [
        "board = generateBoard()\n",
        "turn = b\n",
        "whiteCanPlay = True\n",
        "blackCanPlay = True"
      ],
      "execution_count": 501,
      "outputs": []
    },
    {
      "cell_type": "code",
      "metadata": {
        "id": "HG0UHYRED9B9"
      },
      "source": [
        "bestNetwork = loadNetworks(structure, previousGeneration)[0]"
      ],
      "execution_count": null,
      "outputs": []
    },
    {
      "cell_type": "code",
      "metadata": {
        "id": "lZ-HZ-00Ehrc"
      },
      "source": [
        "while whiteCanPlay or blackCanPlay:\n",
        "  validMoves = getValidMoves()\n",
        "  if len(validMoves == 0):\n",
        "    print()\n",
        "    if turn == w:\n",
        "      whiteCanPlay = False\n",
        "    if turn == b:\n",
        "      blackCanPlay = False\n",
        "  else:\n",
        "    if turn == w:\n",
        "      whiteCanPlay = True\n",
        "    if turn == b:\n",
        "      blackCanPlay = True\n",
        "    \n",
        "    printBoard()\n",
        "    print(\"Valid moves: \", validMoves)\n",
        "\n",
        "    if turn == b:\n",
        "      while True:\n",
        "        try:\n",
        "          i, j = input(getSymbol(b) + \", your move: \").split()\n",
        "          i, j = int(i), int(j)\n",
        "          if turnIsValid(board, i, j, turn):\n",
        "            break\n",
        "          else:\n",
        "            print(\"Invalid move, try again\")\n",
        "        except:\n",
        "          print(\"Try again in format: 'i j'\")\n",
        "    else:\n",
        "      i, j = chooseMove(board, structure, bestNetwork, turn)\n",
        "      print(getSymbol(w]) + \", neural move: \", i, j)\n",
        "\n",
        "    board[i][j] = turn\n",
        "    for di in range(-1, 2):\n",
        "      for dj in range(-1, 2):\n",
        "        if neighbourIsOpposite(i, j, di, dj):\n",
        "          replaceNeighbours(i, j, di, dj, turn)\n",
        "\n",
        "  turn = opposite(turn)\n",
        "\n",
        "print()\n",
        "print(\"GME OVER!\")\n",
        "printBoard()\n",
        "bb = chessCount(b)\n",
        "ww = chessCount(w)\n",
        "if bb == ww:\n",
        "  print(\"Draw\")\n",
        "else:\n",
        "  print((black if bb > ww else white), \"wins\")"
      ],
      "execution_count": null,
      "outputs": []
    }
  ]
}