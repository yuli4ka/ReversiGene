{
  "nbformat": 4,
  "nbformat_minor": 0,
  "metadata": {
    "colab": {
      "name": "Untitled1.ipynb",
      "provenance": [],
      "collapsed_sections": [],
      "authorship_tag": "ABX9TyPiPHnaVTShau88uxT/EsL+",
      "include_colab_link": true
    },
    "kernelspec": {
      "name": "python3",
      "display_name": "Python 3"
    }
  },
  "cells": [
    {
      "cell_type": "markdown",
      "metadata": {
        "id": "view-in-github",
        "colab_type": "text"
      },
      "source": [
        "<a href=\"https://colab.research.google.com/github/yuli4ka/ReversiGene/blob/main/Reversi.ipynb\" target=\"_parent\"><img src=\"https://colab.research.google.com/assets/colab-badge.svg\" alt=\"Open In Colab\"/></a>"
      ]
    },
    {
      "cell_type": "code",
      "metadata": {
        "id": "NG975kdEJaQC"
      },
      "source": [
        "boardSize = 6\n",
        "w = 1 #white player\n",
        "b = -1 #black player\n",
        "white = \"☺\"\n",
        "black = \"☻\"\n",
        "zero = \".\""
      ],
      "execution_count": 117,
      "outputs": []
    },
    {
      "cell_type": "code",
      "metadata": {
        "id": "5yewBZ0XN5Wf"
      },
      "source": [
        "def getSymbol(number):\n",
        "  if number == w:\n",
        "    return white\n",
        "  elif number == b:\n",
        "    return black\n",
        "  else:\n",
        "    return zero"
      ],
      "execution_count": 118,
      "outputs": []
    },
    {
      "cell_type": "code",
      "metadata": {
        "id": "RM4JKBYfJhwl"
      },
      "source": [
        "def chessCount(board, color):\n",
        "  return sum(board[i].count(color) for i in range(boardSize))"
      ],
      "execution_count": 119,
      "outputs": []
    },
    {
      "cell_type": "code",
      "metadata": {
        "id": "LQV3kJrPKUb3"
      },
      "source": [
        "def printBoard(board):\n",
        "  print()\n",
        "  for i in range(boardSize):\n",
        "    for j in range(boardSize):\n",
        "      print(getSymbol(board[i][j]), end = \" \")\n",
        "    print()\n",
        "  print()\n",
        "  print(black + \":\" + str(chessCount(board, b)))\n",
        "  print(white + \":\" + str(chessCount(board, w)))\n",
        "  print()"
      ],
      "execution_count": 120,
      "outputs": []
    },
    {
      "cell_type": "code",
      "metadata": {
        "id": "8S2w4WiNLwK7"
      },
      "source": [
        "def getStartBoard():\n",
        "  board = [[0 for _ in range(boardSize)] for _ in range(boardSize)]\n",
        "  board[boardSize // 2 - 1][boardSize // 2 - 1] = w\n",
        "  board[boardSize // 2 - 1][boardSize // 2] = b\n",
        "  board[boardSize // 2][boardSize // 2 - 1] = b\n",
        "  board[boardSize // 2][boardSize // 2] = w\n",
        "  return board "
      ],
      "execution_count": 121,
      "outputs": []
    },
    {
      "cell_type": "code",
      "metadata": {
        "id": "WB9UOU0jQhwC"
      },
      "source": [
        "def outOfBound(i, j):\n",
        "  return i < 0 or i >= boardSize or j < 0 or j >= boardSize"
      ],
      "execution_count": 122,
      "outputs": []
    },
    {
      "cell_type": "code",
      "metadata": {
        "id": "H2wxgG7_RMxy"
      },
      "source": [
        "def opposite(turn):\n",
        "  return w if turn == b else b"
      ],
      "execution_count": 123,
      "outputs": []
    },
    {
      "cell_type": "code",
      "metadata": {
        "id": "ej1nnkjSQuYL"
      },
      "source": [
        "def neighbourIsOpposite(board, i, j, di, dj, turn):\n",
        "  if (outOfBound(i + di, j + dj)):\n",
        "    return False\n",
        "  return board[i + di][j + dj] == opposite(turn)"
      ],
      "execution_count": 124,
      "outputs": []
    },
    {
      "cell_type": "code",
      "metadata": {
        "id": "qDzgv6SyRTqV"
      },
      "source": [
        "def checkSandwich(board, i, j, di, dj, turn):\n",
        "  if di == 0 and dj == 0:\n",
        "    return False\n",
        "  if outOfBound(i + di, j + dj):\n",
        "    return False\n",
        "  if board[i + di][j + dj] == turn:\n",
        "    return True\n",
        "  if board[i + di][j + dj] == opposite(turn):\n",
        "    return checkSandwich(board, i  + di, j + dj, di, dj, turn)\n",
        "  return False"
      ],
      "execution_count": 125,
      "outputs": []
    },
    {
      "cell_type": "code",
      "metadata": {
        "id": "Sj56TXViSl_-"
      },
      "source": [
        "def turnIsValid(board, i, j, turn):\n",
        "  if outOfBound(i, j):\n",
        "    return False\n",
        "  if board[i][j] != 0:\n",
        "    return False\n",
        "  for di in range (-1, 2):\n",
        "    for dj in range(-1, 2):\n",
        "      if neighbourIsOpposite(board, i, j, di, dj, turn):\n",
        "        if checkSandwich(board, i, j, di, dj, turn):\n",
        "          return True\n",
        "  return False"
      ],
      "execution_count": 126,
      "outputs": []
    },
    {
      "cell_type": "code",
      "metadata": {
        "id": "Gk3n17U3TVKJ"
      },
      "source": [
        "def replaceNeighbours(board, i, j, di, dj, turn):\n",
        "  if checkSandwich(board, i, j, di, dj, turn):\n",
        "    board[i + di][j + dj] = turn\n",
        "    replaceNeighbours(board, i + di, j + dj, di, dj, turn)"
      ],
      "execution_count": 127,
      "outputs": []
    },
    {
      "cell_type": "code",
      "metadata": {
        "id": "Og-EXLPJUgUK"
      },
      "source": [
        "def getValidMoves(board, turn):\n",
        "  return[(i, j) for i in range(boardSize) \n",
        "   for j in range(boardSize) \n",
        "    if turnIsValid(board, i, j, turn)]"
      ],
      "execution_count": 128,
      "outputs": []
    },
    {
      "cell_type": "code",
      "metadata": {
        "id": "NxldM4FEU_mk"
      },
      "source": [
        "def move(board, i, j, turn):\n",
        "  board[i][j] = turn\n",
        "  for di in range(-1, 2):\n",
        "    for dj in range(-1, 2):\n",
        "      if neighbourIsOpposite(board, i, j, di, dj, turn):\n",
        "        replaceNeighbours(board, i, j, di, dj, turn)\n",
        "  return board"
      ],
      "execution_count": 129,
      "outputs": []
    },
    {
      "cell_type": "code",
      "metadata": {
        "colab": {
          "base_uri": "https://localhost:8080/"
        },
        "id": "JsADhAT1MeAd",
        "outputId": "94216fd5-b4c2-42b4-b37c-082c5e079b21"
      },
      "source": [
        "board = getStartBoard()\n",
        "printBoard(board)"
      ],
      "execution_count": 130,
      "outputs": [
        {
          "output_type": "stream",
          "text": [
            "\n",
            ". . . . . . \n",
            ". . . . . . \n",
            ". . ☺ ☻ . . \n",
            ". . ☻ ☺ . . \n",
            ". . . . . . \n",
            ". . . . . . \n",
            "\n",
            "☻:2\n",
            "☺:2\n",
            "\n"
          ],
          "name": "stdout"
        }
      ]
    }
  ]
}